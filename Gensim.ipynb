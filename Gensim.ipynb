{
 "cells": [
  {
   "cell_type": "markdown",
   "metadata": {},
   "source": [
    "# 文本预处理"
   ]
  },
  {
   "cell_type": "code",
   "execution_count": 3,
   "metadata": {},
   "outputs": [],
   "source": [
    "import gensim"
   ]
  },
  {
   "cell_type": "code",
   "execution_count": 15,
   "metadata": {},
   "outputs": [],
   "source": [
    "texts = [['wind', 'flows', 'in', 'the', 'sky'],\n",
    "        ['phone', 'is', 'a', 'commonly', 'used', 'digital', 'device'],\n",
    "        ['In', 'recent', 'days', 'no', 'one', 'can', 'survive', 'without', 'phone'],\n",
    "        ['computer', 'is', 'an', 'office', 'tool'],\n",
    "        ['user', 'response', 'time'],\n",
    "        ['airplane', 'is', 'expensive']]"
   ]
  },
  {
   "cell_type": "code",
   "execution_count": 19,
   "metadata": {},
   "outputs": [
    {
     "name": "stdout",
     "output_type": "stream",
     "text": [
      "{'flows': 0, 'in': 1, 'sky': 2, 'the': 3, 'wind': 4, 'a': 5, 'commonly': 6, 'device': 7, 'digital': 8, 'is': 9, 'phone': 10, 'used': 11, 'In': 12, 'can': 13, 'days': 14, 'no': 15, 'one': 16, 'recent': 17, 'survive': 18, 'without': 19, 'an': 20, 'computer': 21, 'office': 22, 'tool': 23, 'response': 24, 'time': 25, 'user': 26, 'airplane': 27, 'expensive': 28}\n",
      "[(0, 1), (1, 1), (2, 1), (3, 1), (4, 1)]\n"
     ]
    }
   ],
   "source": [
    "from gensim import corpora\n",
    "dictionary = corpora.Dictionary(texts)\n",
    "corpus = [dictionary.doc2bow(text) for text in texts]\n",
    "print(dictionary.token2id)\n",
    "print(corpus[0])"
   ]
  },
  {
   "cell_type": "markdown",
   "metadata": {},
   "source": [
    "# TF-IDF"
   ]
  },
  {
   "cell_type": "code",
   "execution_count": 22,
   "metadata": {},
   "outputs": [
    {
     "name": "stdout",
     "output_type": "stream",
     "text": [
      "[(0, 0.7071067811865476), (1, 0.7071067811865476)]\n",
      "[(21, 1.0)]\n"
     ]
    }
   ],
   "source": [
    "from gensim import models\n",
    "tfidf = models.TfidfModel(corpus)\n",
    "\n",
    "doc_bow = [(0, 1), (1, 1)]\n",
    "print(tfidf[doc_bow])\n",
    "\n",
    "word = \"computer\".split()\n",
    "print(tfidf[dictionary.doc2bow(word)])"
   ]
  },
  {
   "cell_type": "markdown",
   "metadata": {},
   "source": [
    "# 计算文档相似度"
   ]
  },
  {
   "cell_type": "code",
   "execution_count": 25,
   "metadata": {},
   "outputs": [
    {
     "name": "stdout",
     "output_type": "stream",
     "text": [
      "[(0, 0.0), (1, 0.8959547), (2, 0.5949981), (3, 0.72868156), (4, 0.0), (5, 0.7603687)]\n"
     ]
    }
   ],
   "source": [
    "from gensim import similarities\n",
    "\n",
    "query_document = 'computer and phone'.split()\n",
    "query_bow = dictionary.doc2bow(query_document)\n",
    "\n",
    "lsi_model = models.LsiModel(corpus, id2word=dictionary, num_topics=2)\n",
    "documents = lsi_model[corpus]\n",
    "query_vec = lsi_model[query_bow]\n",
    "\n",
    "index = similarities.MatrixSimilarity(documents)\n",
    "\n",
    "sims = index[query_vec]\n",
    "print(list(enumerate(sims)))"
   ]
  }
 ],
 "metadata": {
  "kernelspec": {
   "display_name": "Python 3.8.5 ('py38': conda)",
   "language": "python",
   "name": "python3"
  },
  "language_info": {
   "codemirror_mode": {
    "name": "ipython",
    "version": 3
   },
   "file_extension": ".py",
   "mimetype": "text/x-python",
   "name": "python",
   "nbconvert_exporter": "python",
   "pygments_lexer": "ipython3",
   "version": "3.8.5"
  },
  "orig_nbformat": 4,
  "vscode": {
   "interpreter": {
    "hash": "4b8775a4d03845125e4c854e85d948f5c4490aac3f817b7e46cc34bfef6c20d2"
   }
  }
 },
 "nbformat": 4,
 "nbformat_minor": 2
}
